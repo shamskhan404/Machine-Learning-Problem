{
 "cells": [
  {
   "cell_type": "markdown",
   "metadata": {},
   "source": [
    "> **Problem :** Create a simple linear regression model using Scikit-Learn to predict a numeric target variable based on one or more input features from a dataset"
   ]
  },
  {
   "cell_type": "code",
   "execution_count": 1,
   "metadata": {},
   "outputs": [],
   "source": [
    "import pandas as pd\n",
    "data = pd.read_csv('placement.csv')"
   ]
  },
  {
   "cell_type": "code",
   "execution_count": 2,
   "metadata": {},
   "outputs": [
    {
     "name": "stdout",
     "output_type": "stream",
     "text": [
      "m =  [0.37059089]\n",
      "b =  -1.7198394448322594\n",
      "mse 0.07554155646180898\n"
     ]
    }
   ],
   "source": [
    "#Linear Model\n",
    "x = data.iloc[:,1].values.reshape(-1,1)\n",
    "y = data.iloc[:,3]\n",
    "from sklearn.model_selection import train_test_split\n",
    "x_train,x_test,y_train,y_test = train_test_split(x,y,test_size=0.2,random_state=42)\n",
    "\n",
    "\n",
    "from sklearn.linear_model import LinearRegression\n",
    "lr = LinearRegression()\n",
    "lr.fit(x_train,y_train)\n",
    "\n",
    "m = lr.coef_\n",
    "print('m = ',m )\n",
    "b = lr.intercept_\n",
    "print('b = ',b )\n",
    "\n",
    "y_pred = lr.predict(x_test)\n",
    "\n",
    "from sklearn.metrics import mean_squared_error\n",
    "print('mse',mean_squared_error(y_pred,y_test))\n",
    "\n"
   ]
  },
  {
   "cell_type": "code",
   "execution_count": 3,
   "metadata": {},
   "outputs": [
    {
     "name": "stdout",
     "output_type": "stream",
     "text": [
      "[1.05959225]\n"
     ]
    }
   ],
   "source": [
    "print(lr.predict(x_test[0].reshape(1,1)))"
   ]
  },
  {
   "cell_type": "code",
   "execution_count": null,
   "metadata": {},
   "outputs": [],
   "source": []
  }
 ],
 "metadata": {
  "kernelspec": {
   "display_name": "samenv",
   "language": "python",
   "name": "python3"
  },
  "language_info": {
   "codemirror_mode": {
    "name": "ipython",
    "version": 3
   },
   "file_extension": ".py",
   "mimetype": "text/x-python",
   "name": "python",
   "nbconvert_exporter": "python",
   "pygments_lexer": "ipython3",
   "version": "3.12.0"
  }
 },
 "nbformat": 4,
 "nbformat_minor": 2
}
